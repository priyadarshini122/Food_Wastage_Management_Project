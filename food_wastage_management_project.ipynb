{
  "cells": [
    {
      "cell_type": "markdown",
      "metadata": {
        "id": "X01OJnEFtlHR"
      },
      "source": [
        "# Food Wastage Management System\n",
        "\n",
        "**Introduction :**\n",
        "\n",
        "Food wastage is a growing concern worldwide, affecting both the environment and communities in need. Many organizations and individuals donate surplus food, but tracking, analyzing, and optimizing this process is often challenging.\n",
        "\n",
        "The Food Wastage Dashboard project was developed to provide a centralized, interactive platform that captures data from food providers, receivers, and claims. By integrating data cleaning, database management, analysis, and visualization, the system helps stakeholders monitor donation trends, identify high-performing locations, and address areas with low food distribution.\n",
        "\n",
        "Built using Python, SQLite, Matplotlib/Seaborn, and Streamlit, the dashboard offers real-time insights into food donations, enabling better decision-making to reduce waste and improve distribution efficiency."
      ]
    },
    {
      "cell_type": "markdown",
      "metadata": {
        "id": "-RKtSSxNtu4j"
      },
      "source": [
        "## Data Preparation\n",
        "\n",
        "Loaded the raw CSV files (providers_data.csv, receivers_data.csv, food_listings_data.csv, claims_data.csv).\n",
        "\n",
        "Removed duplicates to avoid double counting.\n",
        "\n",
        "Handled missing values (NaN) in key columns like city, provider name, and food details.\n",
        "\n",
        "Standardized column names and formats (e.g., consistent casing, removing spaces).\n",
        "\n",
        "Saved the cleaned data into a cleaned_data folder as:\n",
        "\n",
        "providers_clean.csv\n",
        "\n",
        "receivers_clean.csv\n",
        "\n",
        "food_listings_clean.csv\n",
        "\n",
        "claims_clean.csv"
      ]
    },
    {
      "cell_type": "code",
      "execution_count": 118,
      "metadata": {
        "id": "7DYmFMMet60z"
      },
      "outputs": [],
      "source": [
        "import pandas as pd"
      ]
    },
    {
      "cell_type": "code",
      "execution_count": 119,
      "metadata": {
        "id": "GyhqLT1qtsXQ"
      },
      "outputs": [],
      "source": [
        "# Load datasets\n",
        "providers = pd.read_csv('/content/providers_data.csv')\n",
        "receivers = pd.read_csv('/content/receivers_data.csv')\n",
        "food_listings = pd.read_csv('/content/food_listings_data.csv')\n",
        "claims = pd.read_csv('/content/claims_data.csv')"
      ]
    },
    {
      "cell_type": "code",
      "execution_count": 120,
      "metadata": {
        "colab": {
          "base_uri": "https://localhost:8080/"
        },
        "id": "Wk3rPh3buYTI",
        "outputId": "ce3e56d5-7450-4837-ee0c-49ba960fbc3c"
      },
      "outputs": [
        {
          "output_type": "execute_result",
          "data": {
            "text/plain": [
              "(   Provider_ID                         Name           Type  \\\n",
              " 0            1             Gonzales-Cochran    Supermarket   \n",
              " 1            2  Nielsen, Johnson and Fuller  Grocery Store   \n",
              " 2            3                 Miller-Black    Supermarket   \n",
              " 3            4   Clark, Prince and Williams  Grocery Store   \n",
              " 4            5               Coleman-Farley  Grocery Store   \n",
              " \n",
              "                                              Address            City  \\\n",
              " 0  74347 Christopher Extensions\\nAndreamouth, OK ...     New Jessica   \n",
              " 1           91228 Hanson Stream\\nWelchtown, OR 27136     East Sheena   \n",
              " 2  561 Martinez Point Suite 507\\nGuzmanchester, W...  Lake Jesusview   \n",
              " 3     467 Bell Trail Suite 409\\nPort Jesus, IA 61188     Mendezmouth   \n",
              " 4  078 Matthew Creek Apt. 319\\nSaraborough, MA 53978   Valentineside   \n",
              " \n",
              "                 Contact  \n",
              " 0       +1-600-220-0480  \n",
              " 1  +1-925-283-8901x6297  \n",
              " 2      001-517-295-2206  \n",
              " 3      556.944.8935x401  \n",
              " 4          193.714.6577  ,\n",
              "    Receiver_ID          Name        Type               City           Contact\n",
              " 0            1  Donald Gomez     Shelter     Port Carlburgh     (955)922-5295\n",
              " 1            2  Laurie Ramos  Individual         Lewisburgh      761.042.1570\n",
              " 2            3  Ashley Mckee         NGO  South Randalltown  691-023-0094x856\n",
              " 3            4    Erika Rose         NGO   South Shaneville        8296491111\n",
              " 4            5   John Romero  Individual          Bakerport      067.491.0154,\n",
              "    Food_ID Food_Name  Quantity Expiry_Date  Provider_ID     Provider_Type  \\\n",
              " 0        1     Bread        43   3/17/2025          110     Grocery Store   \n",
              " 1        2      Soup        22   3/24/2025          791     Grocery Store   \n",
              " 2        3    Fruits        46   3/28/2025          478  Catering Service   \n",
              " 3        4    Fruits        15   3/16/2025          930        Restaurant   \n",
              " 4        5      Soup        14   3/19/2025          279        Restaurant   \n",
              " \n",
              "            Location       Food_Type  Meal_Type  \n",
              " 0  South Kellyville  Non-Vegetarian  Breakfast  \n",
              " 1        West James  Non-Vegetarian     Dinner  \n",
              " 2       Lake Regina           Vegan  Breakfast  \n",
              " 3         Kellytown           Vegan      Lunch  \n",
              " 4        Garciaport           Vegan     Dinner  ,\n",
              "    Claim_ID  Food_ID  Receiver_ID     Status        Timestamp\n",
              " 0         1      164          908    Pending    3/5/2025 5:26\n",
              " 1         2      353          391  Cancelled  3/11/2025 10:24\n",
              " 2         3      626          492  Completed   3/21/2025 0:59\n",
              " 3         4       61          933  Cancelled    3/4/2025 9:08\n",
              " 4         5      345          229    Pending  3/14/2025 15:17)"
            ]
          },
          "metadata": {},
          "execution_count": 120
        }
      ],
      "source": [
        "# Preview first few rows of each dataset\n",
        "providers_head = providers.head()\n",
        "receivers_head = receivers.head()\n",
        "food_listings_head = food_listings.head()\n",
        "claims_head = claims.head()\n",
        "\n",
        "providers_head, receivers_head, food_listings_head, claims_head"
      ]
    },
    {
      "cell_type": "markdown",
      "metadata": {
        "id": "FpksqsG-u_OQ"
      },
      "source": [
        "**Clean the Data**"
      ]
    },
    {
      "cell_type": "code",
      "execution_count": 121,
      "metadata": {
        "id": "2htpMfP-vGnD"
      },
      "outputs": [],
      "source": [
        "# Convert date columns\n",
        "food_listings['Expiry_Date'] = pd.to_datetime(food_listings['Expiry_Date'], errors='coerce').dt.date\n",
        "claims['Timestamp'] = pd.to_datetime(claims['Timestamp'], errors='coerce')"
      ]
    },
    {
      "cell_type": "code",
      "execution_count": 122,
      "metadata": {
        "id": "e5vXTGaMvPPe"
      },
      "outputs": [],
      "source": [
        "# Remove duplicates\n",
        "providers.drop_duplicates(inplace=True)\n",
        "receivers.drop_duplicates(inplace=True)\n",
        "food_listings.drop_duplicates(inplace=True)\n",
        "claims.drop_duplicates(inplace=True)"
      ]
    },
    {
      "cell_type": "code",
      "execution_count": 123,
      "metadata": {
        "id": "6EGQF_LlvPFR"
      },
      "outputs": [],
      "source": [
        "# Standardize text columns (strip spaces)\n",
        "def strip_text_columns(df):\n",
        "    for col in df.columns:\n",
        "        if df[col].dtype == 'object':  # only text columns\n",
        "            df[col] = df[col].astype(str).str.strip()\n",
        "    return df\n",
        "\n",
        "providers = strip_text_columns(providers)\n",
        "receivers = strip_text_columns(receivers)\n",
        "food_listings = strip_text_columns(food_listings)\n",
        "claims = strip_text_columns(claims)"
      ]
    },
    {
      "cell_type": "code",
      "execution_count": 124,
      "metadata": {
        "id": "ozWYpuDYvO36"
      },
      "outputs": [],
      "source": [
        "# Validate ID columns (ensure integer type and unique for primary keys)\n",
        "providers['Provider_ID'] = providers['Provider_ID'].astype(int)\n",
        "receivers['Receiver_ID'] = receivers['Receiver_ID'].astype(int)\n",
        "food_listings['Food_ID'] = food_listings['Food_ID'].astype(int)\n",
        "claims['Claim_ID'] = claims['Claim_ID'].astype(int)"
      ]
    },
    {
      "cell_type": "code",
      "execution_count": 125,
      "metadata": {
        "id": "V3sAS9aXwA9U"
      },
      "outputs": [],
      "source": [
        "# Check uniqueness for primary keys\n",
        "unique_ids = {\n",
        "    \"Providers\": providers['Provider_ID'].is_unique,\n",
        "    \"Receivers\": receivers['Receiver_ID'].is_unique,\n",
        "    \"Food_Listings\": food_listings['Food_ID'].is_unique,\n",
        "    \"Claims\": claims['Claim_ID'].is_unique\n",
        "}"
      ]
    },
    {
      "cell_type": "code",
      "execution_count": 126,
      "metadata": {
        "id": "W1xXq8LMwA5z"
      },
      "outputs": [],
      "source": [
        "# Save in the cleaned_data folder\n",
        "providers.to_csv(\"/content/providers_clean.csv\", index=False)\n",
        "receivers.to_csv(\"/content/receivers_clean.csv\", index=False)\n",
        "food_listings.to_csv(\"/content/food_listings_clean.csv\", index=False)\n",
        "claims.to_csv(\"/content/claims_clean.csv\", index=False)"
      ]
    },
    {
      "cell_type": "code",
      "execution_count": 126,
      "metadata": {
        "id": "4mF6RZfUwAs9"
      },
      "outputs": [],
      "source": []
    },
    {
      "cell_type": "markdown",
      "metadata": {
        "id": "qLZTqo700Nv_"
      },
      "source": [
        "## SQL Database Creation\n",
        "\n",
        "Created an SQLite database.\n",
        "\n",
        "**Designed tables:**\n",
        "\n",
        "Providers\n",
        "\n",
        "Receivers\n",
        "\n",
        "Food_Listings\n",
        "\n",
        "Claims\n",
        "\n",
        "Defined relationships (e.g., Providers → Food Listings → Claims).\n",
        "\n",
        "Imported cleaned CSVs into the database using pandas.to_sql()."
      ]
    },
    {
      "cell_type": "code",
      "execution_count": 70,
      "metadata": {
        "id": "cb_gmdtA0SkV"
      },
      "outputs": [],
      "source": [
        "import os\n",
        "import sqlite3\n",
        "import pandas as pd\n",
        "\n",
        "# 1. Remove old database file if it exists\n",
        "if os.path.exists(\"food_wastage.db\"):\n",
        "    os.remove(\"food_wastage.db\")\n",
        "\n",
        "# 2. Connect to new database\n",
        "conn = sqlite3.connect(\"food_wastage.db\")\n",
        "cursor = conn.cursor(\n",
        ")"
      ]
    },
    {
      "cell_type": "code",
      "execution_count": 71,
      "metadata": {
        "colab": {
          "base_uri": "https://localhost:8080/"
        },
        "id": "R7iEqsat1TXp",
        "outputId": "86ec1566-6f63-4d01-cafa-2aabd8850897"
      },
      "outputs": [
        {
          "output_type": "execute_result",
          "data": {
            "text/plain": [
              "<sqlite3.Cursor at 0x7eafd339f840>"
            ]
          },
          "metadata": {},
          "execution_count": 71
        }
      ],
      "source": [
        "# 3. Create tables\n",
        "cursor.executescript(\"\"\"\n",
        "CREATE TABLE Providers (\n",
        "    Provider_ID INTEGER PRIMARY KEY,\n",
        "    Name TEXT,\n",
        "    Type TEXT,\n",
        "    Address TEXT,\n",
        "    City TEXT,\n",
        "    Contact TEXT\n",
        ");\n",
        "\n",
        "CREATE TABLE Receivers (\n",
        "    Receiver_ID INTEGER PRIMARY KEY,\n",
        "    Name TEXT,\n",
        "    Type TEXT,\n",
        "    City TEXT,\n",
        "    Contact TEXT\n",
        ");\n",
        "\n",
        "CREATE TABLE Food_Listings (\n",
        "    Food_ID INTEGER PRIMARY KEY,\n",
        "    Food_Name TEXT,\n",
        "    Quantity INTEGER,\n",
        "    Expiry_Date DATE,\n",
        "    Provider_ID INTEGER,\n",
        "    Provider_Type TEXT,\n",
        "    Location TEXT,\n",
        "    Food_Type TEXT,\n",
        "    Meal_Type TEXT,\n",
        "    FOREIGN KEY (Provider_ID) REFERENCES Providers(Provider_ID)\n",
        ");\n",
        "\n",
        "CREATE TABLE Claims (\n",
        "    Claim_ID INTEGER PRIMARY KEY,\n",
        "    Food_ID INTEGER,\n",
        "    Receiver_ID INTEGER,\n",
        "    Status TEXT,\n",
        "    Timestamp DATETIME,\n",
        "    FOREIGN KEY (Food_ID) REFERENCES Food_Listings(Food_ID),\n",
        "    FOREIGN KEY (Receiver_ID) REFERENCES Receivers(Receiver_ID)\n",
        ");\n",
        "\"\"\")\n"
      ]
    },
    {
      "cell_type": "code",
      "execution_count": 72,
      "metadata": {
        "id": "HvXjTiCI1TUF"
      },
      "outputs": [],
      "source": [
        "# 4. Load cleaned CSVs\n",
        "providers = pd.read_csv(\"/content/providers_clean.csv\")\n",
        "receivers = pd.read_csv(\"/content/receivers_clean.csv\")\n",
        "food_listings = pd.read_csv(\"/content/food_listings_clean.csv\")\n",
        "claims = pd.read_csv(\"/content/claims_clean.csv\")"
      ]
    },
    {
      "cell_type": "code",
      "execution_count": 73,
      "metadata": {
        "colab": {
          "base_uri": "https://localhost:8080/"
        },
        "id": "4ssMMDUQ2HFD",
        "outputId": "264972e2-0648-41b3-c697-d3496041fdad"
      },
      "outputs": [
        {
          "output_type": "stream",
          "name": "stdout",
          "text": [
            "✅ Database created and data loaded successfully!\n"
          ]
        }
      ],
      "source": [
        "# 5. Insert data into tables (replace to avoid duplication)\n",
        "providers.to_sql(\"Providers\", conn, if_exists=\"append\", index=False)\n",
        "receivers.to_sql(\"Receivers\", conn, if_exists=\"append\", index=False)\n",
        "food_listings.to_sql(\"Food_Listings\", conn, if_exists=\"append\", index=False)\n",
        "claims.to_sql(\"Claims\", conn, if_exists=\"append\", index=False)\n",
        "\n",
        "# 6. Commit & close connection\n",
        "conn.commit()\n",
        "conn.close()\n",
        "\n",
        "print(\"✅ Database created and data loaded successfully!\")"
      ]
    },
    {
      "cell_type": "markdown",
      "metadata": {
        "id": "OakCvcDi3LUX"
      },
      "source": [
        "## SQL Queries\n",
        "\n",
        "Wrote SQL queries to answer key questions, such as:\n",
        "\n",
        "Top cities with the most providers/receivers.\n",
        "\n",
        "Total amount of food donated per city.\n",
        "\n",
        "Most claimed food items.\n",
        "\n",
        "Monthly trend of donations.\n",
        "\n",
        "Used Python with sqlite3 + pandas to fetch and analyze the data.\n"
      ]
    },
    {
      "cell_type": "code",
      "execution_count": 74,
      "metadata": {
        "id": "qw2SNA4R3Q6b"
      },
      "outputs": [],
      "source": [
        "import sqlite3\n",
        "import pandas as pd\n"
      ]
    },
    {
      "cell_type": "code",
      "execution_count": 75,
      "metadata": {
        "id": "CZ4TrYpr3fA_"
      },
      "outputs": [],
      "source": [
        "# Connect to DB\n",
        "conn = sqlite3.connect('food_wastage.db')"
      ]
    },
    {
      "cell_type": "code",
      "execution_count": 76,
      "metadata": {
        "id": "LZZgmBDN3e01"
      },
      "outputs": [],
      "source": [
        "# 1. How many food providers and receivers are there in each city?\n",
        "q1 = \"\"\"\n",
        "SELECT City,\n",
        "       COUNT(DISTINCT Provider_ID) AS Total_Providers,\n",
        "       COUNT(DISTINCT Receiver_ID) AS Total_Receivers\n",
        "FROM (\n",
        "    SELECT City, Provider_ID, NULL as Receiver_ID FROM Providers\n",
        "    UNION ALL\n",
        "    SELECT City, NULL, Receiver_ID FROM Receivers\n",
        ") AS combined\n",
        "GROUP BY City;\n",
        "\"\"\""
      ]
    },
    {
      "cell_type": "code",
      "execution_count": 77,
      "metadata": {
        "id": "ARSOSJ__3eq4"
      },
      "outputs": [],
      "source": [
        "# 2. Which type of food provider contributes the most food?\n",
        "q2 = \"\"\"\n",
        "SELECT Provider_Type, SUM(Quantity) AS Total_Quantity\n",
        "FROM Food_Listings\n",
        "GROUP BY Provider_Type\n",
        "ORDER BY Total_Quantity DESC;\n",
        "\"\"\""
      ]
    },
    {
      "cell_type": "code",
      "execution_count": 78,
      "metadata": {
        "id": "1YxR-DZm3x0v"
      },
      "outputs": [],
      "source": [
        "# 3. Contact info of food providers in a specific city (example: 'New York')\n",
        "q3 = \"\"\"\n",
        "SELECT Name, Contact\n",
        "FROM Providers\n",
        "WHERE City = 'New York';\n",
        "\"\"\""
      ]
    },
    {
      "cell_type": "code",
      "execution_count": 79,
      "metadata": {
        "id": "FRCd7ZC43xxR"
      },
      "outputs": [],
      "source": [
        "# 4. Which receivers have claimed the most food?\n",
        "q4 = \"\"\"\n",
        "SELECT r.Name, COUNT(c.Claim_ID) AS Total_Claims\n",
        "FROM Claims c\n",
        "JOIN Receivers r ON c.Receiver_ID = r.Receiver_ID\n",
        "GROUP BY r.Name\n",
        "ORDER BY Total_Claims DESC;\n",
        "\"\"\""
      ]
    },
    {
      "cell_type": "code",
      "execution_count": 80,
      "metadata": {
        "id": "L4lAAmmX3xut"
      },
      "outputs": [],
      "source": [
        "# 5. Total quantity of food available\n",
        "q5 = \"SELECT SUM(Quantity) AS Total_Food_Quantity FROM Food_Listings;\"\n"
      ]
    },
    {
      "cell_type": "code",
      "execution_count": 81,
      "metadata": {
        "id": "Majr4O1b3xsN"
      },
      "outputs": [],
      "source": [
        "# 6. City with the highest number of food listings\n",
        "q6 = \"\"\"\n",
        "SELECT Location AS City, COUNT(*) AS Total_Listings\n",
        "FROM Food_Listings\n",
        "GROUP BY Location\n",
        "ORDER BY Total_Listings DESC\n",
        "LIMIT 1;\n",
        "\"\"\""
      ]
    },
    {
      "cell_type": "code",
      "execution_count": 82,
      "metadata": {
        "id": "pNnbhMXb3_fM"
      },
      "outputs": [],
      "source": [
        "# 7. Most commonly available food types\n",
        "q7 = \"\"\"\n",
        "SELECT Food_Type, COUNT(*) AS Count_Type\n",
        "FROM Food_Listings\n",
        "GROUP BY Food_Type\n",
        "ORDER BY Count_Type DESC;\n",
        "\"\"\""
      ]
    },
    {
      "cell_type": "code",
      "execution_count": 83,
      "metadata": {
        "id": "Ps2_MNk-3_bu"
      },
      "outputs": [],
      "source": [
        "# 8. How many food claims have been made for each food item?\n",
        "q8 = \"\"\"\n",
        "SELECT f.Food_Name, COUNT(c.Claim_ID) AS Total_Claims\n",
        "FROM Claims c\n",
        "JOIN Food_Listings f ON c.Food_ID = f.Food_ID\n",
        "GROUP BY f.Food_Name\n",
        "ORDER BY Total_Claims DESC;\n",
        "\"\"\""
      ]
    },
    {
      "cell_type": "code",
      "execution_count": 84,
      "metadata": {
        "id": "sAOU6yX83_ZZ"
      },
      "outputs": [],
      "source": [
        "# 9. Provider with the highest number of successful food claims\n",
        "q9 = \"\"\"\n",
        "SELECT p.Name, COUNT(c.Claim_ID) AS Successful_Claims\n",
        "FROM Claims c\n",
        "JOIN Food_Listings f ON c.Food_ID = f.Food_ID\n",
        "JOIN Providers p ON f.Provider_ID = p.Provider_ID\n",
        "WHERE c.Status = 'Completed'\n",
        "GROUP BY p.Name\n",
        "ORDER BY Successful_Claims DESC\n",
        "LIMIT 1;\n",
        "\"\"\"\n"
      ]
    },
    {
      "cell_type": "code",
      "execution_count": 85,
      "metadata": {
        "id": "KpBdq7_F3_XG"
      },
      "outputs": [],
      "source": [
        "# 10. Percentage of claims by status\n",
        "q10 = \"\"\"\n",
        "SELECT Status,\n",
        "       ROUND(COUNT(*) * 100.0 / (SELECT COUNT(*) FROM Claims), 2) AS Percentage\n",
        "FROM Claims\n",
        "GROUP BY Status;\n",
        "\"\"\""
      ]
    },
    {
      "cell_type": "code",
      "execution_count": 86,
      "metadata": {
        "id": "wgJYiEeu3_Uw"
      },
      "outputs": [],
      "source": [
        "# 11. Average quantity of food claimed per receiver\n",
        "q11 = \"\"\"\n",
        "SELECT r.Name, ROUND(AVG(f.Quantity), 2) AS Avg_Quantity_Claimed\n",
        "FROM Claims c\n",
        "JOIN Food_Listings f ON c.Food_ID = f.Food_ID\n",
        "JOIN Receivers r ON c.Receiver_ID = r.Receiver_ID\n",
        "GROUP BY r.Name;\n",
        "\"\"\""
      ]
    },
    {
      "cell_type": "code",
      "execution_count": 87,
      "metadata": {
        "id": "xDCAOjxF4SOA"
      },
      "outputs": [],
      "source": [
        "# 12. Which meal type is claimed the most?\n",
        "q12 = \"\"\"\n",
        "SELECT f.Meal_Type, COUNT(c.Claim_ID) AS Total_Claims\n",
        "FROM Claims c\n",
        "JOIN Food_Listings f ON c.Food_ID = f.Food_ID\n",
        "GROUP BY f.Meal_Type\n",
        "ORDER BY Total_Claims DESC;\n",
        "\"\"\""
      ]
    },
    {
      "cell_type": "code",
      "execution_count": 88,
      "metadata": {
        "id": "8c4UsLGK4SKf"
      },
      "outputs": [],
      "source": [
        "# 13. Total quantity donated by each provider\n",
        "q13 = \"\"\"\n",
        "SELECT p.Name, SUM(f.Quantity) AS Total_Donated\n",
        "FROM Food_Listings f\n",
        "JOIN Providers p ON f.Provider_ID = p.Provider_ID\n",
        "GROUP BY p.Name\n",
        "ORDER BY Total_Donated DESC;\n",
        "\"\"\""
      ]
    },
    {
      "cell_type": "code",
      "execution_count": 89,
      "metadata": {
        "id": "rWQ83oUq4SHm"
      },
      "outputs": [],
      "source": [
        "# 14. Food items expiring within 7 days\n",
        "q14 = \"\"\"\n",
        "SELECT Food_Name, Expiry_Date\n",
        "FROM Food_Listings\n",
        "WHERE julianday(Expiry_Date) - julianday('now') <= 7;\n",
        "\"\"\""
      ]
    },
    {
      "cell_type": "code",
      "execution_count": 90,
      "metadata": {
        "id": "gOP3Cqoz4SFT"
      },
      "outputs": [],
      "source": [
        "# 15. High-demand food types (most claims)\n",
        "q15 = \"\"\"\n",
        "SELECT f.Food_Type, COUNT(c.Claim_ID) AS Total_Claims\n",
        "FROM Claims c\n",
        "JOIN Food_Listings f ON c.Food_ID = f.Food_ID\n",
        "GROUP BY f.Food_Type\n",
        "ORDER BY Total_Claims DESC;\n",
        "\"\"\"\n",
        "\n",
        "queries = [q1, q2, q3, q4, q5, q6, q7, q8, q9, q10, q11, q12, q13, q14, q15]"
      ]
    },
    {
      "cell_type": "code",
      "execution_count": 91,
      "metadata": {
        "colab": {
          "base_uri": "https://localhost:8080/"
        },
        "id": "3gfaxaqt4jGK",
        "outputId": "20520708-4b06-4354-e768-36f27e725d93"
      },
      "outputs": [
        {
          "output_type": "stream",
          "name": "stdout",
          "text": [
            "\n",
            "--- Query 1 ---\n",
            "         City  Total_Providers  Total_Receivers\n",
            "0  Aaronshire                0                1\n",
            "1    Adambury                1                0\n",
            "2    Adamland                0                1\n",
            "3   Adamsview                1                0\n",
            "4  Adamsville                1                0\n",
            "\n",
            "--- Query 2 ---\n",
            "      Provider_Type  Total_Quantity\n",
            "0        Restaurant            6923\n",
            "1       Supermarket            6696\n",
            "2  Catering Service            6116\n",
            "3     Grocery Store            6059\n",
            "\n",
            "--- Query 3 ---\n",
            "Empty DataFrame\n",
            "Columns: [Name, Contact]\n",
            "Index: []\n",
            "\n",
            "--- Query 4 ---\n",
            "                Name  Total_Claims\n",
            "0  William Frederick             5\n",
            "1       Scott Hunter             5\n",
            "2       Matthew Webb             5\n",
            "3     Anthony Garcia             5\n",
            "4    Kristine Martin             4\n",
            "\n",
            "--- Query 5 ---\n",
            "   Total_Food_Quantity\n",
            "0                25794\n",
            "\n",
            "--- Query 6 ---\n",
            "            City  Total_Listings\n",
            "0  South Kathryn               6\n",
            "\n",
            "--- Query 7 ---\n",
            "        Food_Type  Count_Type\n",
            "0      Vegetarian         336\n",
            "1           Vegan         334\n",
            "2  Non-Vegetarian         330\n",
            "\n",
            "--- Query 8 ---\n",
            "  Food_Name  Total_Claims\n",
            "0      Rice           122\n",
            "1      Soup           114\n",
            "2     Dairy           110\n",
            "3      Fish           108\n",
            "4     Salad           106\n",
            "\n",
            "--- Query 9 ---\n",
            "          Name  Successful_Claims\n",
            "0  Barry Group                  5\n",
            "\n",
            "--- Query 10 ---\n",
            "      Status  Percentage\n",
            "0  Cancelled        33.6\n",
            "1  Completed        33.9\n",
            "2    Pending        32.5\n",
            "\n",
            "--- Query 11 ---\n",
            "               Name  Avg_Quantity_Claimed\n",
            "0      Aaron Keller                 39.00\n",
            "1        Aaron Rios                 21.00\n",
            "2       Aaron Scott                 45.00\n",
            "3  Abigail Crawford                 25.67\n",
            "4     Adam Browning                  5.00\n",
            "\n",
            "--- Query 12 ---\n",
            "   Meal_Type  Total_Claims\n",
            "0  Breakfast           278\n",
            "1      Lunch           250\n",
            "2     Snacks           240\n",
            "3     Dinner           232\n",
            "\n",
            "--- Query 13 ---\n",
            "                         Name  Total_Donated\n",
            "0                  Miller Inc            217\n",
            "1                 Barry Group            179\n",
            "2  Evans, Wright and Mitchell            158\n",
            "3                 Smith Group            150\n",
            "4                Campbell LLC            145\n",
            "\n",
            "--- Query 14 ---\n",
            "  Food_Name Expiry_Date\n",
            "0     Bread  2025-03-17\n",
            "1      Soup  2025-03-24\n",
            "2    Fruits  2025-03-28\n",
            "3    Fruits  2025-03-16\n",
            "4      Soup  2025-03-19\n",
            "\n",
            "--- Query 15 ---\n",
            "        Food_Type  Total_Claims\n",
            "0      Vegetarian           350\n",
            "1  Non-Vegetarian           331\n",
            "2           Vegan           319\n"
          ]
        }
      ],
      "source": [
        "# Run and display each query\n",
        "for i, query in enumerate(queries, start=1):\n",
        "    print(f\"\\n--- Query {i} ---\")\n",
        "    df = pd.read_sql(query, conn)\n",
        "    print(df.head())\n",
        "\n",
        "conn.close()"
      ]
    },
    {
      "cell_type": "markdown",
      "metadata": {
        "id": "_mJzAKDc5FS6"
      },
      "source": [
        "## Exploratory Data Analysis & Visualizations\n",
        "\n",
        "Used Matplotlib and Seaborn for visualizations.\n",
        "\n",
        "Created bar charts, pie charts, and trend lines for:\n",
        "\n",
        "Providers by city.\n",
        "\n",
        "Food donation trends over time.\n",
        "\n",
        "Claims distribution.\n",
        "\n",
        "Fixed issues like missing city names in charts by merging datasets."
      ]
    },
    {
      "cell_type": "code",
      "execution_count": 92,
      "metadata": {
        "id": "O1PT0I785MzP"
      },
      "outputs": [],
      "source": [
        "import sqlite3\n",
        "import pandas as pd\n",
        "import matplotlib.pyplot as plt\n",
        "import seaborn as sns"
      ]
    },
    {
      "cell_type": "code",
      "execution_count": 93,
      "metadata": {
        "id": "ybcgsyDP5tAu"
      },
      "outputs": [],
      "source": [
        "# Connect to database\n",
        "conn = sqlite3.connect('food_wastage.db')\n"
      ]
    },
    {
      "cell_type": "code",
      "source": [
        "# Example assuming 'providers' dataframe is loaded\n",
        "df_city = providers.groupby(\"City\", as_index=False).size().rename(columns={\"size\": \"Providers_Count\"})"
      ],
      "metadata": {
        "id": "5huxGkNeo8qB"
      },
      "execution_count": 94,
      "outputs": []
    },
    {
      "cell_type": "code",
      "execution_count": 95,
      "metadata": {
        "colab": {
          "base_uri": "https://localhost:8080/",
          "height": 607
        },
        "id": "yn2PRfXD5s6l",
        "outputId": "b124ad52-abdb-447d-bf1d-bcc93d3be276"
      },
      "outputs": [
        {
          "output_type": "display_data",
          "data": {
            "text/plain": [
              "<Figure size 1000x600 with 1 Axes>"
            ],
            "image/png": "[encoded data removed]"
          },
          "metadata": {}
        }
      ],
      "source": [
        "# 1. Show only top 10 cities by Providers_Count\n",
        "df_city_top = df_city.sort_values(\"Providers_Count\", ascending=False).head(10)\n",
        "\n",
        "# Plot\n",
        "df_city_top.plot(\n",
        "    x=\"City\",\n",
        "    kind=\"bar\",\n",
        "    stacked=False,\n",
        "    figsize=(10,6),\n",
        "    color=[\"#1f77b4\", \"#ff7f0e\"]  # Blue and orange bars\n",
        ")\n",
        "\n",
        "plt.title(\"Top 10 Cities by Number of Providers & Receivers\")\n",
        "plt.ylabel(\"Count\")\n",
        "plt.xticks(rotation=45, ha='right')  # Rotate labels and align to the right\n",
        "plt.tight_layout()\n",
        "plt.show()\n"
      ]
    },
    {
      "cell_type": "code",
      "execution_count": 96,
      "metadata": {
        "colab": {
          "base_uri": "https://localhost:8080/",
          "height": 428
        },
        "id": "qHnOs9rV5s4Q",
        "outputId": "e9d96c52-0107-41df-fa1d-6bfa4f51350d"
      },
      "outputs": [
        {
          "output_type": "display_data",
          "data": {
            "text/plain": [
              "<Figure size 640x480 with 1 Axes>"
            ],
            "image/png": "[encoded data removed]"
          },
          "metadata": {}
        }
      ],
      "source": [
        "# 2. Claim status distribution\n",
        "df_claims_status = pd.read_sql(\"\"\"\n",
        "SELECT Status, COUNT(*) AS Count\n",
        "FROM Claims\n",
        "GROUP BY Status;\n",
        "\"\"\", conn)\n",
        "\n",
        "plt.pie(df_claims_status[\"Count\"], labels=df_claims_status[\"Status\"], autopct=\"%1.1f%%\", startangle=90)\n",
        "plt.title(\"Claims Status Distribution\")\n",
        "plt.show()"
      ]
    },
    {
      "cell_type": "code",
      "execution_count": 97,
      "metadata": {
        "colab": {
          "base_uri": "https://localhost:8080/",
          "height": 579
        },
        "id": "qJB-RARb5s14",
        "outputId": "acd5c003-9fab-44f6-b635-513ca6ff6961"
      },
      "outputs": [
        {
          "output_type": "stream",
          "name": "stderr",
          "text": [
            "/tmp/ipython-input-2310876724.py:11: FutureWarning: \n",
            "\n",
            "Passing `palette` without assigning `hue` is deprecated and will be removed in v0.14.0. Assign the `y` variable to `hue` and set `legend=False` for the same effect.\n",
            "\n",
            "  sns.barplot(data=df_top_providers, x=\"Total_Donated\", y=\"Name\", palette=\"viridis\")\n"
          ]
        },
        {
          "output_type": "display_data",
          "data": {
            "text/plain": [
              "<Figure size 640x480 with 1 Axes>"
            ],
            "image/png": "[encoded data removed]"
          },
          "metadata": {}
        }
      ],
      "source": [
        "# 3. Top 10 providers by total quantity donated\n",
        "df_top_providers = pd.read_sql(\"\"\"\n",
        "SELECT p.Name, SUM(f.Quantity) AS Total_Donated\n",
        "FROM Food_Listings f\n",
        "JOIN Providers p ON f.Provider_ID = p.Provider_ID\n",
        "GROUP BY p.Name\n",
        "ORDER BY Total_Donated DESC\n",
        "LIMIT 10;\n",
        "\"\"\", conn)\n",
        "\n",
        "sns.barplot(data=df_top_providers, x=\"Total_Donated\", y=\"Name\", palette=\"viridis\")\n",
        "plt.title(\"Top 10 Providers by Quantity Donated\")\n",
        "plt.xlabel(\"Total Quantity Donated\")\n",
        "plt.ylabel(\"Provider\")\n",
        "plt.show()"
      ]
    },
    {
      "cell_type": "code",
      "execution_count": 98,
      "metadata": {
        "colab": {
          "base_uri": "https://localhost:8080/",
          "height": 579
        },
        "id": "06R987Kg7T_v",
        "outputId": "13863cdf-543a-44de-d41c-277bfc4121dd"
      },
      "outputs": [
        {
          "output_type": "stream",
          "name": "stderr",
          "text": [
            "/tmp/ipython-input-3092520079.py:10: FutureWarning: \n",
            "\n",
            "Passing `palette` without assigning `hue` is deprecated and will be removed in v0.14.0. Assign the `x` variable to `hue` and set `legend=False` for the same effect.\n",
            "\n",
            "  sns.barplot(data=df_meal_claims, x=\"Meal_Type\", y=\"Total_Claims\", palette=\"Set2\")\n"
          ]
        },
        {
          "output_type": "display_data",
          "data": {
            "text/plain": [
              "<Figure size 640x480 with 1 Axes>"
            ],
            "image/png": "[encoded data removed]"
          },
          "metadata": {}
        }
      ],
      "source": [
        "# 4. Meal types claimed most\n",
        "df_meal_claims = pd.read_sql(\"\"\"\n",
        "SELECT f.Meal_Type, COUNT(c.Claim_ID) AS Total_Claims\n",
        "FROM Claims c\n",
        "JOIN Food_Listings f ON c.Food_ID = f.Food_ID\n",
        "GROUP BY f.Meal_Type\n",
        "ORDER BY Total_Claims DESC;\n",
        "\"\"\", conn)\n",
        "\n",
        "sns.barplot(data=df_meal_claims, x=\"Meal_Type\", y=\"Total_Claims\", palette=\"Set2\")\n",
        "plt.title(\"Meal Types Claimed Most\")\n",
        "plt.xlabel(\"Meal Type\")\n",
        "plt.ylabel(\"Total Claims\")\n",
        "plt.show()\n"
      ]
    },
    {
      "cell_type": "code",
      "execution_count": 99,
      "metadata": {
        "colab": {
          "base_uri": "https://localhost:8080/",
          "height": 579
        },
        "id": "JQviYHJT7TvK",
        "outputId": "bde5ca11-1a85-4df6-9f82-1f306c3b0d0b"
      },
      "outputs": [
        {
          "output_type": "stream",
          "name": "stderr",
          "text": [
            "/tmp/ipython-input-3803287654.py:10: FutureWarning: \n",
            "\n",
            "Passing `palette` without assigning `hue` is deprecated and will be removed in v0.14.0. Assign the `x` variable to `hue` and set `legend=False` for the same effect.\n",
            "\n",
            "  sns.barplot(data=df_foodtype_claims, x=\"Food_Type\", y=\"Total_Claims\", palette=\"coolwarm\")\n"
          ]
        },
        {
          "output_type": "display_data",
          "data": {
            "text/plain": [
              "<Figure size 640x480 with 1 Axes>"
            ],
            "image/png": "[encoded data removed]"
          },
          "metadata": {}
        }
      ],
      "source": [
        "# 5. Food types with highest claims\n",
        "df_foodtype_claims = pd.read_sql(\"\"\"\n",
        "SELECT f.Food_Type, COUNT(c.Claim_ID) AS Total_Claims\n",
        "FROM Claims c\n",
        "JOIN Food_Listings f ON c.Food_ID = f.Food_ID\n",
        "GROUP BY f.Food_Type\n",
        "ORDER BY Total_Claims DESC;\n",
        "\"\"\", conn)\n",
        "\n",
        "sns.barplot(data=df_foodtype_claims, x=\"Food_Type\", y=\"Total_Claims\", palette=\"coolwarm\")\n",
        "plt.title(\"Food Types with Highest Claims\")\n",
        "plt.xlabel(\"Food Type\")\n",
        "plt.ylabel(\"Total Claims\")\n",
        "plt.show()"
      ]
    },
    {
      "cell_type": "code",
      "execution_count": 100,
      "metadata": {
        "id": "ZhlGoxEh7Trp"
      },
      "outputs": [],
      "source": [
        "conn.close()"
      ]
    },
    {
      "cell_type": "markdown",
      "metadata": {
        "id": "SeiqajxK79jh"
      },
      "source": [
        "## Streamlit App Development\n",
        "\n",
        "Developed app.py using Streamlit.\n",
        "\n",
        "Added sidebar filters for city, date range, and food type.\n",
        "\n",
        "Integrated charts from Phase 4 into an interactive UI.\n",
        "\n",
        "Ran the app locally and on Google Colab using Ngrok to get a public link."
      ]
    },
    {
      "cell_type": "code",
      "source": [
        "from google.colab import files\n",
        "\n",
        "# Upload app.py\n",
        "files.upload()"
      ],
      "metadata": {
        "colab": {
          "base_uri": "https://localhost:8080/",
          "height": 177
        },
        "id": "_3PR9cHntAW7",
        "outputId": "898013fa-3fb1-49de-e0a2-ecdad10bd834"
      },
      "execution_count": 127,
      "outputs": [
        {
          "output_type": "display_data",
          "data": {
            "text/plain": [
              "<IPython.core.display.HTML object>"
            ],
            "text/html": [
              "\n",
              "     <input type=\"file\" id=\"files-2747842b-df54-4972-8c04-cefd63a3d734\" name=\"files[]\" multiple disabled\n",
              "        style=\"border:none\" />\n",
              "     <output id=\"result-2747842b-df54-4972-8c04-cefd63a3d734\">\n",
              "      Upload widget is only available when the cell has been executed in the\n",
              "      current browser session. Please rerun this cell to enable.\n",
              "      </output>\n",
              "      <script>// Copyright 2017 Google LLC\n",
              "//\n",
              "// Licensed under the Apache License, Version 2.0 (the \"License\");\n",
              "// you may not use this file except in compliance with the License.\n",
              "// You may obtain a copy of the License at\n",
              "//\n",
              "//      http://www.apache.org/licenses/LICENSE-2.0\n",
              "//\n",
              "// Unless required by applicable law or agreed to in writing, software\n",
              "// distributed under the License is distributed on an \"AS IS\" BASIS,\n",
              "// WITHOUT WARRANTIES OR CONDITIONS OF ANY KIND, either express or implied.\n",
              "// See the License for the specific language governing permissions and\n",
              "// limitations under the License.\n",
              "\n",
              "/**\n",
              " * @fileoverview Helpers for google.colab Python module.\n",
              " */\n",
              "(function(scope) {\n",
              "function span(text, styleAttributes = {}) {\n",
              "  const element = document.createElement('span');\n",
              "  element.textContent = text;\n",
              "  for (const key of Object.keys(styleAttributes)) {\n",
              "    element.style[key] = styleAttributes[key];\n",
              "  }\n",
              "  return element;\n",
              "}\n",
              "\n",
              "// Max number of bytes which will be uploaded at a time.\n",
              "const MAX_PAYLOAD_SIZE = 100 * 1024;\n",
              "\n",
              "function _uploadFiles(inputId, outputId) {\n",
              "  const steps = uploadFilesStep(inputId, outputId);\n",
              "  const outputElement = document.getElementById(outputId);\n",
              "  // Cache steps on the outputElement to make it available for the next call\n",
              "  // to uploadFilesContinue from Python.\n",
              "  outputElement.steps = steps;\n",
              "\n",
              "  return _uploadFilesContinue(outputId);\n",
              "}\n",
              "\n",
              "// This is roughly an async generator (not supported in the browser yet),\n",
              "// where there are multiple asynchronous steps and the Python side is going\n",
              "// to poll for completion of each step.\n",
              "// This uses a Promise to block the python side on completion of each step,\n",
              "// then passes the result of the previous step as the input to the next step.\n",
              "function _uploadFilesContinue(outputId) {\n",
              "  const outputElement = document.getElementById(outputId);\n",
              "  const steps = outputElement.steps;\n",
              "\n",
              "  const next = steps.next(outputElement.lastPromiseValue);\n",
              "  return Promise.resolve(next.value.promise).then((value) => {\n",
              "    // Cache the last promise value to make it available to the next\n",
              "    // step of the generator.\n",
              "    outputElement.lastPromiseValue = value;\n",
              "    return next.value.response;\n",
              "  });\n",
              "}\n",
              "\n",
              "/**\n",
              " * Generator function which is called between each async step of the upload\n",
              " * process.\n",
              " * @param {string} inputId Element ID of the input file picker element.\n",
              " * @param {string} outputId Element ID of the output display.\n",
              " * @return {!Iterable<!Object>} Iterable of next steps.\n",
              " */\n",
              "function* uploadFilesStep(inputId, outputId) {\n",
              "  const inputElement = document.getElementById(inputId);\n",
              "  inputElement.disabled = false;\n",
              "\n",
              "  const outputElement = document.getElementById(outputId);\n",
              "  outputElement.innerHTML = '';\n",
              "\n",
              "  const pickedPromise = new Promise((resolve) => {\n",
              "    inputElement.addEventListener('change', (e) => {\n",
              "      resolve(e.target.files);\n",
              "    });\n",
              "  });\n",
              "\n",
              "  const cancel = document.createElement('button');\n",
              "  inputElement.parentElement.appendChild(cancel);\n",
              "  cancel.textContent = 'Cancel upload';\n",
              "  const cancelPromise = new Promise((resolve) => {\n",
              "    cancel.onclick = () => {\n",
              "      resolve(null);\n",
              "    };\n",
              "  });\n",
              "\n",
              "  // Wait for the user to pick the files.\n",
              "  const files = yield {\n",
              "    promise: Promise.race([pickedPromise, cancelPromise]),\n",
              "    response: {\n",
              "      action: 'starting',\n",
              "    }\n",
              "  };\n",
              "\n",
              "  cancel.remove();\n",
              "\n",
              "  // Disable the input element since further picks are not allowed.\n",
              "  inputElement.disabled = true;\n",
              "\n",
              "  if (!files) {\n",
              "    return {\n",
              "      response: {\n",
              "        action: 'complete',\n",
              "      }\n",
              "    };\n",
              "  }\n",
              "\n",
              "  for (const file of files) {\n",
              "    const li = document.createElement('li');\n",
              "    li.append(span(file.name, {fontWeight: 'bold'}));\n",
              "    li.append(span(\n",
              "        `(${file.type || 'n/a'}) - ${file.size} bytes, ` +\n",
              "        `last modified: ${\n",
              "            file.lastModifiedDate ? file.lastModifiedDate.toLocaleDateString() :\n",
              "                                    'n/a'} - `));\n",
              "    const percent = span('0% done');\n",
              "    li.appendChild(percent);\n",
              "\n",
              "    outputElement.appendChild(li);\n",
              "\n",
              "    const fileDataPromise = new Promise((resolve) => {\n",
              "      const reader = new FileReader();\n",
              "      reader.onload = (e) => {\n",
              "        resolve(e.target.result);\n",
              "      };\n",
              "      reader.readAsArrayBuffer(file);\n",
              "    });\n",
              "    // Wait for the data to be ready.\n",
              "    let fileData = yield {\n",
              "      promise: fileDataPromise,\n",
              "      response: {\n",
              "        action: 'continue',\n",
              "      }\n",
              "    };\n",
              "\n",
              "    // Use a chunked sending to avoid message size limits. See b/62115660.\n",
              "    let position = 0;\n",
              "    do {\n",
              "      const length = Math.min(fileData.byteLength - position, MAX_PAYLOAD_SIZE);\n",
              "      const chunk = new Uint8Array(fileData, position, length);\n",
              "      position += length;\n",
              "\n",
              "      const base64 = btoa(String.fromCharCode.apply(null, chunk));\n",
              "      yield {\n",
              "        response: {\n",
              "          action: 'append',\n",
              "          file: file.name,\n",
              "          data: base64,\n",
              "        },\n",
              "      };\n",
              "\n",
              "      let percentDone = fileData.byteLength === 0 ?\n",
              "          100 :\n",
              "          Math.round((position / fileData.byteLength) * 100);\n",
              "      percent.textContent = `${percentDone}% done`;\n",
              "\n",
              "    } while (position < fileData.byteLength);\n",
              "  }\n",
              "\n",
              "  // All done.\n",
              "  yield {\n",
              "    response: {\n",
              "      action: 'complete',\n",
              "    }\n",
              "  };\n",
              "}\n",
              "\n",
              "scope.google = scope.google || {};\n",
              "scope.google.colab = scope.google.colab || {};\n",
              "scope.google.colab._files = {\n",
              "  _uploadFiles,\n",
              "  _uploadFilesContinue,\n",
              "};\n",
              "})(self);\n",
              "</script> "
            ]
          },
          "metadata": {}
        },
        {
          "output_type": "stream",
          "name": "stdout",
          "text": [
            "Saving app.py to app (4).py\n"
          ]
        },
        {
          "output_type": "execute_result",
          "data": {
            "text/plain": [
              "{'app (4).py': b'import streamlit as st\\r\\nimport pandas as pd\\r\\n\\r\\n@st.cache_data\\r\\ndef load_data():\\r\\n    providers = pd.read_csv(\"cleaned_data/providers_clean.csv\")\\r\\n    receivers = pd.read_csv(\"cleaned_data/receivers_clean.csv\")\\r\\n    food_listings = pd.read_csv(\"cleaned_data/food_listings_clean.csv\")\\r\\n    claims = pd.read_csv(\"cleaned_data/claims_clean.csv\")\\r\\n    return providers, receivers, food_listings, claims\\r\\n\\r\\nst.title(\"Food Wastage Dashboard\")\\r\\n\\r\\nproviders, receivers, food_listings, claims = load_data()\\r\\n\\r\\nst.subheader(\"Providers Data\")\\r\\nst.dataframe(providers)\\r\\n\\r\\nst.subheader(\"Receivers Data\")\\r\\nst.dataframe(receivers)\\r\\n'}"
            ]
          },
          "metadata": {},
          "execution_count": 127
        }
      ]
    },
    {
      "cell_type": "code",
      "source": [
        "import os\n",
        "\n",
        "# Make cleaned_data folder\n",
        "os.makedirs(\"cleaned_data\", exist_ok=True)\n"
      ],
      "metadata": {
        "id": "gZfQFt5XtATj"
      },
      "execution_count": 128,
      "outputs": []
    },
    {
      "cell_type": "code",
      "source": [
        "from google.colab import files\n",
        "\n",
        "# Upload CSVs to cleaned_data folder\n",
        "uploaded = files.upload()\n",
        "for fname in uploaded.keys():\n",
        "    os.rename(fname, f\"cleaned_data/{fname}\")\n"
      ],
      "metadata": {
        "colab": {
          "base_uri": "https://localhost:8080/",
          "height": 177
        },
        "id": "UaRe3on3tARB",
        "outputId": "fb010bfc-84b2-4fc4-8eec-3fcd7fdb1034"
      },
      "execution_count": 129,
      "outputs": [
        {
          "output_type": "display_data",
          "data": {
            "text/plain": [
              "<IPython.core.display.HTML object>"
            ],
            "text/html": [
              "\n",
              "     <input type=\"file\" id=\"files-6f56bf73-49b5-441f-b067-eb67aecff767\" name=\"files[]\" multiple disabled\n",
              "        style=\"border:none\" />\n",
              "     <output id=\"result-6f56bf73-49b5-441f-b067-eb67aecff767\">\n",
              "      Upload widget is only available when the cell has been executed in the\n",
              "      current browser session. Please rerun this cell to enable.\n",
              "      </output>\n",
              "      <script>// Copyright 2017 Google LLC\n",
              "//\n",
              "// Licensed under the Apache License, Version 2.0 (the \"License\");\n",
              "// you may not use this file except in compliance with the License.\n",
              "// You may obtain a copy of the License at\n",
              "//\n",
              "//      http://www.apache.org/licenses/LICENSE-2.0\n",
              "//\n",
              "// Unless required by applicable law or agreed to in writing, software\n",
              "// distributed under the License is distributed on an \"AS IS\" BASIS,\n",
              "// WITHOUT WARRANTIES OR CONDITIONS OF ANY KIND, either express or implied.\n",
              "// See the License for the specific language governing permissions and\n",
              "// limitations under the License.\n",
              "\n",
              "/**\n",
              " * @fileoverview Helpers for google.colab Python module.\n",
              " */\n",
              "(function(scope) {\n",
              "function span(text, styleAttributes = {}) {\n",
              "  const element = document.createElement('span');\n",
              "  element.textContent = text;\n",
              "  for (const key of Object.keys(styleAttributes)) {\n",
              "    element.style[key] = styleAttributes[key];\n",
              "  }\n",
              "  return element;\n",
              "}\n",
              "\n",
              "// Max number of bytes which will be uploaded at a time.\n",
              "const MAX_PAYLOAD_SIZE = 100 * 1024;\n",
              "\n",
              "function _uploadFiles(inputId, outputId) {\n",
              "  const steps = uploadFilesStep(inputId, outputId);\n",
              "  const outputElement = document.getElementById(outputId);\n",
              "  // Cache steps on the outputElement to make it available for the next call\n",
              "  // to uploadFilesContinue from Python.\n",
              "  outputElement.steps = steps;\n",
              "\n",
              "  return _uploadFilesContinue(outputId);\n",
              "}\n",
              "\n",
              "// This is roughly an async generator (not supported in the browser yet),\n",
              "// where there are multiple asynchronous steps and the Python side is going\n",
              "// to poll for completion of each step.\n",
              "// This uses a Promise to block the python side on completion of each step,\n",
              "// then passes the result of the previous step as the input to the next step.\n",
              "function _uploadFilesContinue(outputId) {\n",
              "  const outputElement = document.getElementById(outputId);\n",
              "  const steps = outputElement.steps;\n",
              "\n",
              "  const next = steps.next(outputElement.lastPromiseValue);\n",
              "  return Promise.resolve(next.value.promise).then((value) => {\n",
              "    // Cache the last promise value to make it available to the next\n",
              "    // step of the generator.\n",
              "    outputElement.lastPromiseValue = value;\n",
              "    return next.value.response;\n",
              "  });\n",
              "}\n",
              "\n",
              "/**\n",
              " * Generator function which is called between each async step of the upload\n",
              " * process.\n",
              " * @param {string} inputId Element ID of the input file picker element.\n",
              " * @param {string} outputId Element ID of the output display.\n",
              " * @return {!Iterable<!Object>} Iterable of next steps.\n",
              " */\n",
              "function* uploadFilesStep(inputId, outputId) {\n",
              "  const inputElement = document.getElementById(inputId);\n",
              "  inputElement.disabled = false;\n",
              "\n",
              "  const outputElement = document.getElementById(outputId);\n",
              "  outputElement.innerHTML = '';\n",
              "\n",
              "  const pickedPromise = new Promise((resolve) => {\n",
              "    inputElement.addEventListener('change', (e) => {\n",
              "      resolve(e.target.files);\n",
              "    });\n",
              "  });\n",
              "\n",
              "  const cancel = document.createElement('button');\n",
              "  inputElement.parentElement.appendChild(cancel);\n",
              "  cancel.textContent = 'Cancel upload';\n",
              "  const cancelPromise = new Promise((resolve) => {\n",
              "    cancel.onclick = () => {\n",
              "      resolve(null);\n",
              "    };\n",
              "  });\n",
              "\n",
              "  // Wait for the user to pick the files.\n",
              "  const files = yield {\n",
              "    promise: Promise.race([pickedPromise, cancelPromise]),\n",
              "    response: {\n",
              "      action: 'starting',\n",
              "    }\n",
              "  };\n",
              "\n",
              "  cancel.remove();\n",
              "\n",
              "  // Disable the input element since further picks are not allowed.\n",
              "  inputElement.disabled = true;\n",
              "\n",
              "  if (!files) {\n",
              "    return {\n",
              "      response: {\n",
              "        action: 'complete',\n",
              "      }\n",
              "    };\n",
              "  }\n",
              "\n",
              "  for (const file of files) {\n",
              "    const li = document.createElement('li');\n",
              "    li.append(span(file.name, {fontWeight: 'bold'}));\n",
              "    li.append(span(\n",
              "        `(${file.type || 'n/a'}) - ${file.size} bytes, ` +\n",
              "        `last modified: ${\n",
              "            file.lastModifiedDate ? file.lastModifiedDate.toLocaleDateString() :\n",
              "                                    'n/a'} - `));\n",
              "    const percent = span('0% done');\n",
              "    li.appendChild(percent);\n",
              "\n",
              "    outputElement.appendChild(li);\n",
              "\n",
              "    const fileDataPromise = new Promise((resolve) => {\n",
              "      const reader = new FileReader();\n",
              "      reader.onload = (e) => {\n",
              "        resolve(e.target.result);\n",
              "      };\n",
              "      reader.readAsArrayBuffer(file);\n",
              "    });\n",
              "    // Wait for the data to be ready.\n",
              "    let fileData = yield {\n",
              "      promise: fileDataPromise,\n",
              "      response: {\n",
              "        action: 'continue',\n",
              "      }\n",
              "    };\n",
              "\n",
              "    // Use a chunked sending to avoid message size limits. See b/62115660.\n",
              "    let position = 0;\n",
              "    do {\n",
              "      const length = Math.min(fileData.byteLength - position, MAX_PAYLOAD_SIZE);\n",
              "      const chunk = new Uint8Array(fileData, position, length);\n",
              "      position += length;\n",
              "\n",
              "      const base64 = btoa(String.fromCharCode.apply(null, chunk));\n",
              "      yield {\n",
              "        response: {\n",
              "          action: 'append',\n",
              "          file: file.name,\n",
              "          data: base64,\n",
              "        },\n",
              "      };\n",
              "\n",
              "      let percentDone = fileData.byteLength === 0 ?\n",
              "          100 :\n",
              "          Math.round((position / fileData.byteLength) * 100);\n",
              "      percent.textContent = `${percentDone}% done`;\n",
              "\n",
              "    } while (position < fileData.byteLength);\n",
              "  }\n",
              "\n",
              "  // All done.\n",
              "  yield {\n",
              "    response: {\n",
              "      action: 'complete',\n",
              "    }\n",
              "  };\n",
              "}\n",
              "\n",
              "scope.google = scope.google || {};\n",
              "scope.google.colab = scope.google.colab || {};\n",
              "scope.google.colab._files = {\n",
              "  _uploadFiles,\n",
              "  _uploadFilesContinue,\n",
              "};\n",
              "})(self);\n",
              "</script> "
            ]
          },
          "metadata": {}
        },
        {
          "output_type": "stream",
          "name": "stdout",
          "text": [
            "Saving claims_clean.csv to claims_clean (2).csv\n",
            "Saving food_listings_clean.csv to food_listings_clean (2).csv\n",
            "Saving providers_clean.csv to providers_clean (2).csv\n",
            "Saving receivers_clean.csv to receivers_clean (2).csv\n"
          ]
        }
      ]
    },
    {
      "cell_type": "code",
      "source": [
        "!pip install streamlit pyngrok\n"
      ],
      "metadata": {
        "colab": {
          "base_uri": "https://localhost:8080/"
        },
        "id": "44OXw73btw_5",
        "outputId": "deb4f03e-6715-480b-e5ac-5a54f33cf87b"
      },
      "execution_count": 130,
      "outputs": [
        {
          "output_type": "stream",
          "name": "stdout",
          "text": [
            "Requirement already satisfied: streamlit in /usr/local/lib/python3.11/dist-packages (1.48.1)\n",
            "Requirement already satisfied: pyngrok in /usr/local/lib/python3.11/dist-packages (7.3.0)\n",
            "Requirement already satisfied: altair!=5.4.0,!=5.4.1,<6,>=4.0 in /usr/local/lib/python3.11/dist-packages (from streamlit) (5.5.0)\n",
            "Requirement already satisfied: blinker<2,>=1.5.0 in /usr/local/lib/python3.11/dist-packages (from streamlit) (1.9.0)\n",
            "Requirement already satisfied: cachetools<7,>=4.0 in /usr/local/lib/python3.11/dist-packages (from streamlit) (5.5.2)\n",
            "Requirement already satisfied: click<9,>=7.0 in /usr/local/lib/python3.11/dist-packages (from streamlit) (8.2.1)\n",
            "Requirement already satisfied: numpy<3,>=1.23 in /usr/local/lib/python3.11/dist-packages (from streamlit) (2.0.2)\n",
            "Requirement already satisfied: packaging<26,>=20 in /usr/local/lib/python3.11/dist-packages (from streamlit) (25.0)\n",
            "Requirement already satisfied: pandas<3,>=1.4.0 in /usr/local/lib/python3.11/dist-packages (from streamlit) (2.2.2)\n",
            "Requirement already satisfied: pillow<12,>=7.1.0 in /usr/local/lib/python3.11/dist-packages (from streamlit) (11.3.0)\n",
            "Requirement already satisfied: protobuf<7,>=3.20 in /usr/local/lib/python3.11/dist-packages (from streamlit) (5.29.5)\n",
            "Requirement already satisfied: pyarrow>=7.0 in /usr/local/lib/python3.11/dist-packages (from streamlit) (18.1.0)\n",
            "Requirement already satisfied: requests<3,>=2.27 in /usr/local/lib/python3.11/dist-packages (from streamlit) (2.32.3)\n",
            "Requirement already satisfied: tenacity<10,>=8.1.0 in /usr/local/lib/python3.11/dist-packages (from streamlit) (9.1.2)\n",
            "Requirement already satisfied: toml<2,>=0.10.1 in /usr/local/lib/python3.11/dist-packages (from streamlit) (0.10.2)\n",
            "Requirement already satisfied: typing-extensions<5,>=4.4.0 in /usr/local/lib/python3.11/dist-packages (from streamlit) (4.14.1)\n",
            "Requirement already satisfied: watchdog<7,>=2.1.5 in /usr/local/lib/python3.11/dist-packages (from streamlit) (6.0.0)\n",
            "Requirement already satisfied: gitpython!=3.1.19,<4,>=3.0.7 in /usr/local/lib/python3.11/dist-packages (from streamlit) (3.1.45)\n",
            "Requirement already satisfied: pydeck<1,>=0.8.0b4 in /usr/local/lib/python3.11/dist-packages (from streamlit) (0.9.1)\n",
            "Requirement already satisfied: tornado!=6.5.0,<7,>=6.0.3 in /usr/local/lib/python3.11/dist-packages (from streamlit) (6.4.2)\n",
            "Requirement already satisfied: PyYAML>=5.1 in /usr/local/lib/python3.11/dist-packages (from pyngrok) (6.0.2)\n",
            "Requirement already satisfied: jinja2 in /usr/local/lib/python3.11/dist-packages (from altair!=5.4.0,!=5.4.1,<6,>=4.0->streamlit) (3.1.6)\n",
            "Requirement already satisfied: jsonschema>=3.0 in /usr/local/lib/python3.11/dist-packages (from altair!=5.4.0,!=5.4.1,<6,>=4.0->streamlit) (4.25.0)\n",
            "Requirement already satisfied: narwhals>=1.14.2 in /usr/local/lib/python3.11/dist-packages (from altair!=5.4.0,!=5.4.1,<6,>=4.0->streamlit) (2.1.0)\n",
            "Requirement already satisfied: gitdb<5,>=4.0.1 in /usr/local/lib/python3.11/dist-packages (from gitpython!=3.1.19,<4,>=3.0.7->streamlit) (4.0.12)\n",
            "Requirement already satisfied: python-dateutil>=2.8.2 in /usr/local/lib/python3.11/dist-packages (from pandas<3,>=1.4.0->streamlit) (2.9.0.post0)\n",
            "Requirement already satisfied: pytz>=2020.1 in /usr/local/lib/python3.11/dist-packages (from pandas<3,>=1.4.0->streamlit) (2025.2)\n",
            "Requirement already satisfied: tzdata>=2022.7 in /usr/local/lib/python3.11/dist-packages (from pandas<3,>=1.4.0->streamlit) (2025.2)\n",
            "Requirement already satisfied: charset-normalizer<4,>=2 in /usr/local/lib/python3.11/dist-packages (from requests<3,>=2.27->streamlit) (3.4.3)\n",
            "Requirement already satisfied: idna<4,>=2.5 in /usr/local/lib/python3.11/dist-packages (from requests<3,>=2.27->streamlit) (3.10)\n",
            "Requirement already satisfied: urllib3<3,>=1.21.1 in /usr/local/lib/python3.11/dist-packages (from requests<3,>=2.27->streamlit) (2.5.0)\n",
            "Requirement already satisfied: certifi>=2017.4.17 in /usr/local/lib/python3.11/dist-packages (from requests<3,>=2.27->streamlit) (2025.8.3)\n",
            "Requirement already satisfied: smmap<6,>=3.0.1 in /usr/local/lib/python3.11/dist-packages (from gitdb<5,>=4.0.1->gitpython!=3.1.19,<4,>=3.0.7->streamlit) (5.0.2)\n",
            "Requirement already satisfied: MarkupSafe>=2.0 in /usr/local/lib/python3.11/dist-packages (from jinja2->altair!=5.4.0,!=5.4.1,<6,>=4.0->streamlit) (3.0.2)\n",
            "Requirement already satisfied: attrs>=22.2.0 in /usr/local/lib/python3.11/dist-packages (from jsonschema>=3.0->altair!=5.4.0,!=5.4.1,<6,>=4.0->streamlit) (25.3.0)\n",
            "Requirement already satisfied: jsonschema-specifications>=2023.03.6 in /usr/local/lib/python3.11/dist-packages (from jsonschema>=3.0->altair!=5.4.0,!=5.4.1,<6,>=4.0->streamlit) (2025.4.1)\n",
            "Requirement already satisfied: referencing>=0.28.4 in /usr/local/lib/python3.11/dist-packages (from jsonschema>=3.0->altair!=5.4.0,!=5.4.1,<6,>=4.0->streamlit) (0.36.2)\n",
            "Requirement already satisfied: rpds-py>=0.7.1 in /usr/local/lib/python3.11/dist-packages (from jsonschema>=3.0->altair!=5.4.0,!=5.4.1,<6,>=4.0->streamlit) (0.27.0)\n",
            "Requirement already satisfied: six>=1.5 in /usr/local/lib/python3.11/dist-packages (from python-dateutil>=2.8.2->pandas<3,>=1.4.0->streamlit) (1.17.0)\n"
          ]
        }
      ]
    },
    {
      "cell_type": "code",
      "source": [
        "!ngrok config add-authtoken 31B0Y4qi9DQ05hUtxgstwcYVjjc_6tv1xQkwVqyQifYxjga2y"
      ],
      "metadata": {
        "colab": {
          "base_uri": "https://localhost:8080/"
        },
        "id": "qAH8vQawtw8g",
        "outputId": "697d2aef-2521-4d1d-e843-4ce38350c546"
      },
      "execution_count": 131,
      "outputs": [
        {
          "output_type": "stream",
          "name": "stdout",
          "text": [
            "Authtoken saved to configuration file: /root/.config/ngrok/ngrok.yml\n"
          ]
        }
      ]
    },
    {
      "cell_type": "code",
      "source": [
        "from pyngrok import ngrok\n",
        "import threading\n",
        "import time\n",
        "import os\n",
        "\n",
        "# Function to run Streamlit in a thread\n",
        "def run_streamlit():\n",
        "    os.system(\"streamlit run app.py --server.port 8501 --server.headless true\")\n",
        "\n",
        "# Start streamlit in background\n",
        "threading.Thread(target=run_streamlit).start()\n",
        "\n",
        "# Wait a bit for server to start\n",
        "time.sleep(5)\n",
        "\n",
        "# Start ngrok tunnel\n",
        "public_url = ngrok.connect(8501)\n",
        "print(\"Streamlit app is live at:\", public_url)\n"
      ],
      "metadata": {
        "colab": {
          "base_uri": "https://localhost:8080/"
        },
        "id": "bL-0p1w9t1AY",
        "outputId": "507f8b86-bfe1-448f-cb33-969e990cb24c"
      },
      "execution_count": 132,
      "outputs": [
        {
          "output_type": "stream",
          "name": "stdout",
          "text": [
            "Streamlit app is live at: NgrokTunnel: \"https://a5d42c235748.ngrok-free.app\" -> \"http://localhost:8501\"\n"
          ]
        }
      ]
    },
    {
      "cell_type": "markdown",
      "source": [
        "## **Conclusion :**\n",
        "\n",
        "The Food Wastage Dashboard successfully transforms raw food donation data into meaningful, interactive insights. From data preparation to visualization, the project demonstrates how analytics can play a key role in addressing food wastage challenges.\n",
        "\n",
        "By providing real-time statistics on donations, claims, and provider activity, the dashboard empowers NGOs, food banks, and government agencies to make data-driven decisions. Moreover, its interactive filters allow users to explore trends across cities, time periods, and food types.\n",
        "\n",
        "While this version provides strong analytical capabilities, future enhancements could include predictive analytics, real-time IoT integration for tracking food freshness, and automated alert systems to further improve food rescue efforts.\n",
        "\n",
        "In essence, this project is not just a data visualization tool—it’s a step toward reducing food wastage and promoting sustainable resource use."
      ],
      "metadata": {
        "id": "PQQu-cJdwo02"
      }
    },
    {
      "cell_type": "code",
      "source": [],
      "metadata": {
        "id": "8l1G-42iw7Lf"
      },
      "execution_count": null,
      "outputs": []
    }
  ],
  "metadata": {
    "colab": {
      "collapsed_sections": [
        "-RKtSSxNtu4j",
        "OakCvcDi3LUX"
      ],
      "provenance": []
    },
    "kernelspec": {
      "display_name": "Python 3",
      "name": "python3"
    },
    "language_info": {
      "name": "python"
    }
  },
  "nbformat": 4,
  "nbformat_minor": 0
}